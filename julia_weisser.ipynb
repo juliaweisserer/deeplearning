{
 "cells": [
  {
   "attachments": {},
   "cell_type": "markdown",
   "metadata": {},
   "source": [
    "# Hello and welcome to my online crafting room! ;)\n",
    "\n",
    "Welcome to the ultimate guide on how to train a convolutional neural network (CNN) to recognize handwritten digits using Python and the MNIST dataset! ;)\n",
    "\n",
    "My goal in this implementation was to achieve a high level of performance with a clear and logical script, because I was born in January and my main focus was the performance.\n",
    "\n",
    "I mean, c'mon, January babies are known for their high levels of productivity and efficiency. It's just in our nature. No, but seriously, despite my (slightly) bad jokes, I am proud of the work I did on this project. I think I created a clear and logical script that achieved a high level of performance. And that's all any January baby can really ask for.\n",
    "\n",
    "The MNIST dataset is a common example used to train machine learning models, and it is relatively easy to achieve an (validation-)accuracy of around 97-98% on this dataset. Therefore I wanted to increase this (validation-)accuracy to over 99%. Fortunately I was able to achieve this goal. But to evaluate the performance of a neuronal networt you also have to evalutate the model and its development process. To do this, I researched various validation algorithms and, considering the (sadly) limited computing power of my laptop, decided to use k-fold cross-validation. In the following presentation of my code, I will explain how this validation method works so stay tuned ;)"
   ]
  },
  {
   "attachments": {},
   "cell_type": "markdown",
   "metadata": {},
   "source": [
    "### Not that much to explain but still indispensable\n",
    "\n",
    "Below this markdown cell, I listed all the necessary imports. These libraries are used to load and process the MNIST dataset, define and train the convolutional neural network (CNN) model, and visualize the results.   They provide important functionality (they already got pre-implemented from some much smarter programmers! ;)), that is necessary for the functions in this code to work correctly and to understand a (very import) part of what they should do.\n",
    "\n",
    "Numpy is a powerful library for working with numerical data, and I will use it to load and manipulate the MNIST dataset. Matplotlib and seaborn are used for visualizing the results, while sklearn's KFold module will be used for cross-validation. Finally, pandas is used for storing and manipulating our data, and tensorflow and its sublibrary keras for building and training our CNN.\n"
   ]
  },
  {
   "cell_type": "code",
   "execution_count": 19,
   "metadata": {},
   "outputs": [],
   "source": [
    "import numpy as np\n",
    "from numpy import mean\n",
    "from numpy import std\n",
    "from matplotlib import pyplot as plt\n",
    "from sklearn.model_selection import KFold\n",
    "from sklearn.metrics import confusion_matrix\n",
    "import seaborn as sn\n",
    "import pandas as pd\n",
    "\n",
    "\n",
    "import tensorflow as tf\n",
    "from tensorflow import keras\n",
    "from keras.datasets import mnist\n",
    "from keras.utils import to_categorical\n",
    "from keras.models import Sequential\n",
    "from keras.layers import Conv2D\n",
    "from keras.layers import MaxPooling2D\n",
    "from keras.layers import Dropout\n",
    "from keras.layers import Dense\n",
    "from keras.layers import Flatten\n",
    "from keras.optimizers import SGD\n",
    "from keras.optimizers import Adam\n",
    "\n",
    "import math\n"
   ]
  },
  {
   "attachments": {},
   "cell_type": "markdown",
   "metadata": {},
   "source": [
    "### The structure and also the first function, yeah!\n",
    "\n",
    "From now on you will see, that I structered my code into several functions. The intention behind this is from my goal to create a logical and clear script. Each function is part of the developing process and will be executed at the end.\n",
    "\n",
    "The first function defined is \"load_dataset\". This function loads the MNIST dataset using the TensorFlow library. It reshapes the data to have a single channel (since the images are grayscale, they only have one channel). It also one-hot encodes the target values, that is, the digits that the CNN is trying to recognize.\n",
    "\n",
    "The next function defined is \"prep_pixels\". This function takes in train and test datasets as inputs to scale the pixel values of the images. This is important because the pixel values are currently integers ranging from 0 to 255, but we want to convert them to floating point values between 0 and 1. This is done by dividing the pixel values by 255.\n",
    "\n",
    "We then call the \"load_dataset\" and \"prep_pixels\" functions to load and preprocess the MNIST dataset."
   ]
  },
  {
   "cell_type": "code",
   "execution_count": 2,
   "metadata": {},
   "outputs": [],
   "source": [
    "# load train and test dataset\n",
    "def load_dataset():\n",
    "\t# load dataset\n",
    "\t(trainX, trainY), (testX, testY) = tf.keras.datasets.mnist.load_data()\n",
    "\t# reshape dataset to have a single channel\n",
    "\ttrainX = trainX.reshape((trainX.shape[0], 28, 28, 1))\n",
    "\ttestX = testX.reshape((testX.shape[0], 28, 28, 1))\n",
    "\t# one hot encode target values\n",
    "\ttrainY = to_categorical(trainY)\n",
    "\ttestY = to_categorical(testY)\n",
    "\treturn trainX, trainY, testX, testY\n",
    "\n",
    "# scale pixels\n",
    "def prep_pixels(train, test):\n",
    "\t# convert from integers to floats\n",
    "\ttrain_norm = train.astype('float32')\n",
    "\ttest_norm = test.astype('float32')\n",
    "\t# normalize to range 0-1\n",
    "\ttrain_norm = train_norm / 255.0\n",
    "\ttest_norm = test_norm / 255.0\n",
    "\t# return normalized images\n",
    "\treturn train_norm, test_norm\n",
    "\n",
    "\n",
    "trainX, trainY, testX, testY = load_dataset()\n",
    "trainX, testX = prep_pixels(trainX, testX)"
   ]
  },
  {
   "attachments": {},
   "cell_type": "markdown",
   "metadata": {},
   "source": [
    "### The brain, and maybe also the heart of our project :)\n",
    "\n",
    "In the next step, I defined the \"define_model\" function, which creates a CNN model using the Keras library. The model consists of two convolutional layers with max pooling, a flatten layer, a dropout layer and two dense layers.\n",
    "The convolutional layers are used for feature extraction, while the max pooling layers reduce the dimensionality of the data. The flatten layer converts the output of the max pooling layers into a single long vector, which is then fed into the dropout layer, to prevent overfitting. Finally, the dense layers are used for classification.\n",
    "\n",
    "The model is compiled using the Stochastic Gradient Descent (SGD) optimizer and the categorical cross-entropy loss function. I also specify that I want to track the accuracy metric during training.\n",
    "\n",
    "At last, I printed a summary of the model to see all its layers and the number of parameters in each layer."
   ]
  },
  {
   "cell_type": "code",
   "execution_count": 4,
   "metadata": {},
   "outputs": [
    {
     "name": "stdout",
     "output_type": "stream",
     "text": [
      "Model: \"sequential\"\n",
      "_________________________________________________________________\n",
      " Layer (type)                Output Shape              Param #   \n",
      "=================================================================\n",
      " conv2d (Conv2D)             (None, 26, 26, 32)        320       \n",
      "                                                                 \n",
      " max_pooling2d (MaxPooling2D  (None, 13, 13, 32)       0         \n",
      " )                                                               \n",
      "                                                                 \n",
      " conv2d_1 (Conv2D)           (None, 11, 11, 64)        18496     \n",
      "                                                                 \n",
      " max_pooling2d_1 (MaxPooling  (None, 5, 5, 64)         0         \n",
      " 2D)                                                             \n",
      "                                                                 \n",
      " flatten (Flatten)           (None, 1600)              0         \n",
      "                                                                 \n",
      " dropout (Dropout)           (None, 1600)              0         \n",
      "                                                                 \n",
      " dense (Dense)               (None, 100)               160100    \n",
      "                                                                 \n",
      " dense_1 (Dense)             (None, 10)                1010      \n",
      "                                                                 \n",
      "=================================================================\n",
      "Total params: 179,926\n",
      "Trainable params: 179,926\n",
      "Non-trainable params: 0\n",
      "_________________________________________________________________\n"
     ]
    }
   ],
   "source": [
    "# define cnn model\n",
    "def define_model():\n",
    "\tmodel = Sequential()\n",
    "\tmodel.add(Conv2D(32, (3, 3), activation='relu', kernel_initializer='he_uniform', input_shape=(28, 28, 1)))\n",
    "\tmodel.add(MaxPooling2D((2, 2)))\n",
    "\tmodel.add(Conv2D(64, (3, 3), activation='relu', kernel_initializer='he_uniform', input_shape=(28, 28, 1)))\n",
    "\tmodel.add(MaxPooling2D((2, 2)))\n",
    "\tmodel.add(Flatten())\n",
    "\tmodel.add(Dropout(0.5))\n",
    "\tmodel.add(Dense(100, activation='relu', kernel_initializer='he_uniform'))\n",
    "\tmodel.add(Dense(10, activation='softmax'))\n",
    "\t# compile model\n",
    "\topt = SGD(learning_rate=0.05, momentum=0.9)\n",
    "\tmodel.compile(optimizer=opt, loss='categorical_crossentropy', metrics=['accuracy'])\n",
    "\treturn model\n",
    "model = define_model()\n",
    "model.summary()"
   ]
  },
  {
   "attachments": {},
   "cell_type": "markdown",
   "metadata": {},
   "source": [
    "### Let's start the first training run!!!\n",
    "\n",
    "Finally, we can start training our model, using the \"fit\" function from Keras, with the MNIST train and test datasets as inputs. The model is trained for 10 epochs (=how many times the model will see the entire dataset during training) using a batch size (=how many samples the model will see at a time during training) of 70.\n",
    "I also specify the validation data, which is used to evaluate the model during training.\n",
    "The training process also utilizes two callbacks: a TensorBoard callback to visualize the model's performance, and a ReduceLROnPlateau callback, which reduces the learning rate of the optimizer when the validation loss stops improving.\n",
    "\n",
    "This idea comes from my goal of achieving a pretty good performance. During the programming process, I regognized a really high training-accuracy and a stagnant validation-accuracy, which likely indicates overfitting. To adress this, my first idea was to implement a dynamic learing rate, that decreases, when it realizes that the accuracy is not improving from one epoch to the next. This helped a lot to increase the accuarcy of my validation set, but still I wanted to improve further. So my second idea was to create another layer that prevents the model from simply memorizing the training sett, so I implemented a Dropout layer. which you already got to see. :)"
   ]
  },
  {
   "cell_type": "code",
   "execution_count": 5,
   "metadata": {},
   "outputs": [
    {
     "name": "stdout",
     "output_type": "stream",
     "text": [
      "Epoch 1/10\n",
      "858/858 [==============================] - 42s 48ms/step - loss: 0.1953 - accuracy: 0.9383 - val_loss: 0.0481 - val_accuracy: 0.9840 - lr: 0.0500\n",
      "Epoch 2/10\n",
      "858/858 [==============================] - 46s 53ms/step - loss: 0.0831 - accuracy: 0.9741 - val_loss: 0.0335 - val_accuracy: 0.9889 - lr: 0.0500\n",
      "Epoch 3/10\n",
      "858/858 [==============================] - 39s 46ms/step - loss: 0.0666 - accuracy: 0.9793 - val_loss: 0.0361 - val_accuracy: 0.9876 - lr: 0.0500\n",
      "Epoch 4/10\n",
      "858/858 [==============================] - 41s 48ms/step - loss: 0.0440 - accuracy: 0.9856 - val_loss: 0.0246 - val_accuracy: 0.9921 - lr: 0.0250\n",
      "Epoch 5/10\n",
      "858/858 [==============================] - 41s 48ms/step - loss: 0.0370 - accuracy: 0.9881 - val_loss: 0.0223 - val_accuracy: 0.9933 - lr: 0.0250\n",
      "Epoch 6/10\n",
      "858/858 [==============================] - 44s 51ms/step - loss: 0.0364 - accuracy: 0.9889 - val_loss: 0.0224 - val_accuracy: 0.9927 - lr: 0.0250\n",
      "Epoch 7/10\n",
      "858/858 [==============================] - 45s 52ms/step - loss: 0.0277 - accuracy: 0.9904 - val_loss: 0.0217 - val_accuracy: 0.9933 - lr: 0.0125\n",
      "Epoch 8/10\n",
      "858/858 [==============================] - 46s 53ms/step - loss: 0.0256 - accuracy: 0.9917 - val_loss: 0.0213 - val_accuracy: 0.9934 - lr: 0.0125\n",
      "Epoch 9/10\n",
      "858/858 [==============================] - 45s 53ms/step - loss: 0.0236 - accuracy: 0.9922 - val_loss: 0.0197 - val_accuracy: 0.9932 - lr: 0.0125\n",
      "Epoch 10/10\n",
      "858/858 [==============================] - 45s 52ms/step - loss: 0.0239 - accuracy: 0.9920 - val_loss: 0.0214 - val_accuracy: 0.9934 - lr: 0.0125\n"
     ]
    },
    {
     "data": {
      "text/plain": [
       "<keras.callbacks.History at 0x20267bd1f30>"
      ]
     },
     "execution_count": 5,
     "metadata": {},
     "output_type": "execute_result"
    }
   ],
   "source": [
    "# get ready for your first training run.\n",
    "import datetime\n",
    "import os\n",
    "#%reload_ext tensorboard\n",
    "\n",
    "\n",
    "logdir = os.path.join(\"logs\", datetime.datetime.now().strftime(\"%Y%m%d-%H%M%S\"))\n",
    "tensorboard_callback = tf.keras.callbacks.TensorBoard(logdir, histogram_freq=1)\n",
    "reduce_lr = tf.keras.callbacks.ReduceLROnPlateau(monitor='val_loss', factor=0.5, patience=1, min_lr=0.0005)\n",
    "\n",
    "model.fit(\n",
    "    trainX,\n",
    "    trainY,\n",
    "    epochs=10,\n",
    "    batch_size=70,\n",
    "    validation_data=(testX, testY),\n",
    "    callbacks=[tensorboard_callback, reduce_lr]\n",
    ")\n"
   ]
  },
  {
   "attachments": {},
   "cell_type": "markdown",
   "metadata": {},
   "source": [
    "### Training is done, but was it a success?\n",
    "\n",
    "Once the training is completed, we need to check how successful the workout was... so we evaluate the model's performance using the \"evaluate\" function from Keras.\n",
    "So welcome to the k-fold cross-validation party!\n",
    "\n",
    "This is all about evaluating the performance of our CNN model. But instead of just evaluating it on the test data once, we're going to use a technique called k-fold cross-validation to get a better understanding of how well our model is performing. Here's how it works: we split the training data into k folds (in this case, we're using 5 folds). We then train the model k times, each time using a different fold as the test data and the remaining folds as the training data. This allows us to get an estimate of the model's performance on unseen data, as we're using different folds as the test data each time.\n",
    "\n",
    "I started by defining \"evaluate_model\", which takes the training data and labels as input, as well as the number of folds for cross-validation. It returns two lists: scores (i.e. the accuracy), which contains the evaluation scores for each fold, and histories, which contains the training histories for each fold. We then loop over the folds, to start evaluation. For each fold, we define a new model using the \"define_model\" function, which I explained earlier. We then select the rows of the training and test data that correspond to the current fold. \n",
    "Once the training is complete, we evaluate the model on the test data for the current fold and store the accuracy score in the scores list. The function also stores the training history of the model in the histories list.\n",
    "In the end, the function returns the scores and histories lists."
   ]
  },
  {
   "cell_type": "code",
   "execution_count": 7,
   "metadata": {},
   "outputs": [
    {
     "name": "stdout",
     "output_type": "stream",
     "text": [
      "================================================================================\n",
      "Fold-1\n",
      "--------------------------------------------------------------------------------\n",
      "Training & Validation\n",
      "Epoch 1/10\n",
      "686/686 [==============================] - 32s 46ms/step - loss: 0.2125 - accuracy: 0.9329 - val_loss: 0.0660 - val_accuracy: 0.9791 - lr: 0.0500\n",
      "Epoch 2/10\n",
      "686/686 [==============================] - 32s 47ms/step - loss: 0.0899 - accuracy: 0.9724 - val_loss: 0.0487 - val_accuracy: 0.9858 - lr: 0.0500\n",
      "Epoch 3/10\n",
      "686/686 [==============================] - 32s 47ms/step - loss: 0.0695 - accuracy: 0.9783 - val_loss: 0.0460 - val_accuracy: 0.9862 - lr: 0.0500\n",
      "Epoch 4/10\n",
      "686/686 [==============================] - 34s 49ms/step - loss: 0.0611 - accuracy: 0.9804 - val_loss: 0.0402 - val_accuracy: 0.9883 - lr: 0.0500\n",
      "Epoch 5/10\n",
      "686/686 [==============================] - 34s 49ms/step - loss: 0.0520 - accuracy: 0.9839 - val_loss: 0.0369 - val_accuracy: 0.9898 - lr: 0.0500\n",
      "Epoch 6/10\n",
      "686/686 [==============================] - 35s 51ms/step - loss: 0.0491 - accuracy: 0.9844 - val_loss: 0.0373 - val_accuracy: 0.9888 - lr: 0.0500\n",
      "Epoch 7/10\n",
      "686/686 [==============================] - 35s 52ms/step - loss: 0.0340 - accuracy: 0.9894 - val_loss: 0.0324 - val_accuracy: 0.9914 - lr: 0.0250\n",
      "Epoch 8/10\n",
      "686/686 [==============================] - 40s 58ms/step - loss: 0.0277 - accuracy: 0.9907 - val_loss: 0.0410 - val_accuracy: 0.9887 - lr: 0.0250\n",
      "Epoch 9/10\n",
      "686/686 [==============================] - 39s 57ms/step - loss: 0.0225 - accuracy: 0.9925 - val_loss: 0.0338 - val_accuracy: 0.9910 - lr: 0.0125\n",
      "Epoch 10/10\n",
      "686/686 [==============================] - 37s 54ms/step - loss: 0.0203 - accuracy: 0.9933 - val_loss: 0.0305 - val_accuracy: 0.9918 - lr: 0.0063\n",
      "--------------------------------------------------------------------------------\n",
      "Testing/evaluation\n",
      "375/375 [==============================] - 4s 10ms/step - loss: 0.0305 - accuracy: 0.9918\n",
      "================================================================================\n",
      "Fold-2\n",
      "--------------------------------------------------------------------------------\n",
      "Training & Validation\n",
      "Epoch 1/10\n",
      "686/686 [==============================] - 40s 57ms/step - loss: 0.2158 - accuracy: 0.9326 - val_loss: 0.0759 - val_accuracy: 0.9773 - lr: 0.0500\n",
      "Epoch 2/10\n",
      "686/686 [==============================] - 37s 54ms/step - loss: 0.0911 - accuracy: 0.9711 - val_loss: 0.0555 - val_accuracy: 0.9832 - lr: 0.0500\n",
      "Epoch 3/10\n",
      "686/686 [==============================] - 33s 49ms/step - loss: 0.0680 - accuracy: 0.9786 - val_loss: 0.0426 - val_accuracy: 0.9863 - lr: 0.0500\n",
      "Epoch 4/10\n",
      "686/686 [==============================] - 35s 51ms/step - loss: 0.0617 - accuracy: 0.9805 - val_loss: 0.0427 - val_accuracy: 0.9857 - lr: 0.0500\n",
      "Epoch 5/10\n",
      "686/686 [==============================] - 35s 51ms/step - loss: 0.0396 - accuracy: 0.9872 - val_loss: 0.0342 - val_accuracy: 0.9892 - lr: 0.0250\n",
      "Epoch 6/10\n",
      "686/686 [==============================] - 40s 58ms/step - loss: 0.0334 - accuracy: 0.9894 - val_loss: 0.0291 - val_accuracy: 0.9916 - lr: 0.0250\n",
      "Epoch 7/10\n",
      "686/686 [==============================] - 34s 50ms/step - loss: 0.0323 - accuracy: 0.9894 - val_loss: 0.0298 - val_accuracy: 0.9902 - lr: 0.0250\n",
      "Epoch 8/10\n",
      "686/686 [==============================] - 33s 48ms/step - loss: 0.0256 - accuracy: 0.9917 - val_loss: 0.0269 - val_accuracy: 0.9917 - lr: 0.0125\n",
      "Epoch 9/10\n",
      "686/686 [==============================] - 39s 57ms/step - loss: 0.0240 - accuracy: 0.9922 - val_loss: 0.0271 - val_accuracy: 0.9922 - lr: 0.0125\n",
      "Epoch 10/10\n",
      "686/686 [==============================] - 35s 51ms/step - loss: 0.0216 - accuracy: 0.9931 - val_loss: 0.0260 - val_accuracy: 0.9923 - lr: 0.0063\n",
      "--------------------------------------------------------------------------------\n",
      "Testing/evaluation\n",
      "375/375 [==============================] - 4s 10ms/step - loss: 0.0260 - accuracy: 0.9923\n",
      "================================================================================\n",
      "Fold-3\n",
      "--------------------------------------------------------------------------------\n",
      "Training & Validation\n",
      "Epoch 1/10\n",
      "686/686 [==============================] - 38s 53ms/step - loss: 0.2176 - accuracy: 0.9302 - val_loss: 0.0648 - val_accuracy: 0.9814 - lr: 0.0500\n",
      "Epoch 2/10\n",
      "686/686 [==============================] - 36s 52ms/step - loss: 0.0885 - accuracy: 0.9721 - val_loss: 0.0628 - val_accuracy: 0.9797 - lr: 0.0500\n",
      "Epoch 3/10\n",
      "686/686 [==============================] - 39s 57ms/step - loss: 0.0671 - accuracy: 0.9793 - val_loss: 0.0558 - val_accuracy: 0.9842 - lr: 0.0500\n",
      "Epoch 4/10\n",
      "686/686 [==============================] - 49s 71ms/step - loss: 0.0586 - accuracy: 0.9811 - val_loss: 0.0472 - val_accuracy: 0.9858 - lr: 0.0500\n",
      "Epoch 5/10\n",
      "686/686 [==============================] - 44s 65ms/step - loss: 0.0486 - accuracy: 0.9846 - val_loss: 0.0505 - val_accuracy: 0.9856 - lr: 0.0500\n",
      "Epoch 6/10\n",
      "686/686 [==============================] - 36s 52ms/step - loss: 0.0343 - accuracy: 0.9885 - val_loss: 0.0348 - val_accuracy: 0.9896 - lr: 0.0250\n",
      "Epoch 7/10\n",
      "686/686 [==============================] - 42s 61ms/step - loss: 0.0321 - accuracy: 0.9899 - val_loss: 0.0328 - val_accuracy: 0.9899 - lr: 0.0250\n",
      "Epoch 8/10\n",
      "686/686 [==============================] - 36s 53ms/step - loss: 0.0268 - accuracy: 0.9910 - val_loss: 0.0331 - val_accuracy: 0.9907 - lr: 0.0250\n",
      "Epoch 9/10\n",
      "686/686 [==============================] - 39s 56ms/step - loss: 0.0223 - accuracy: 0.9923 - val_loss: 0.0320 - val_accuracy: 0.9911 - lr: 0.0125\n",
      "Epoch 10/10\n",
      "686/686 [==============================] - 36s 52ms/step - loss: 0.0224 - accuracy: 0.9924 - val_loss: 0.0315 - val_accuracy: 0.9916 - lr: 0.0125\n",
      "--------------------------------------------------------------------------------\n",
      "Testing/evaluation\n",
      "375/375 [==============================] - 3s 9ms/step - loss: 0.0315 - accuracy: 0.9916\n",
      "================================================================================\n",
      "Fold-4\n",
      "--------------------------------------------------------------------------------\n",
      "Training & Validation\n",
      "Epoch 1/10\n",
      "686/686 [==============================] - 34s 48ms/step - loss: 0.2053 - accuracy: 0.9361 - val_loss: 0.0558 - val_accuracy: 0.9818 - lr: 0.0500\n",
      "Epoch 2/10\n",
      "686/686 [==============================] - 36s 52ms/step - loss: 0.0848 - accuracy: 0.9739 - val_loss: 0.0429 - val_accuracy: 0.9868 - lr: 0.0500\n",
      "Epoch 3/10\n",
      "686/686 [==============================] - 35s 52ms/step - loss: 0.0681 - accuracy: 0.9787 - val_loss: 0.0354 - val_accuracy: 0.9888 - lr: 0.0500\n",
      "Epoch 4/10\n",
      "686/686 [==============================] - 37s 54ms/step - loss: 0.0536 - accuracy: 0.9833 - val_loss: 0.0341 - val_accuracy: 0.9888 - lr: 0.0500\n",
      "Epoch 5/10\n",
      "686/686 [==============================] - 35s 51ms/step - loss: 0.0521 - accuracy: 0.9835 - val_loss: 0.0332 - val_accuracy: 0.9892 - lr: 0.0500\n",
      "Epoch 6/10\n",
      "686/686 [==============================] - 35s 51ms/step - loss: 0.0451 - accuracy: 0.9860 - val_loss: 0.0269 - val_accuracy: 0.9922 - lr: 0.0500\n",
      "Epoch 7/10\n",
      "686/686 [==============================] - 35s 51ms/step - loss: 0.0420 - accuracy: 0.9868 - val_loss: 0.0355 - val_accuracy: 0.9901 - lr: 0.0500\n",
      "Epoch 8/10\n",
      "686/686 [==============================] - 34s 50ms/step - loss: 0.0300 - accuracy: 0.9901 - val_loss: 0.0247 - val_accuracy: 0.9933 - lr: 0.0250\n",
      "Epoch 9/10\n",
      "686/686 [==============================] - 35s 50ms/step - loss: 0.0255 - accuracy: 0.9917 - val_loss: 0.0230 - val_accuracy: 0.9930 - lr: 0.0250\n",
      "Epoch 10/10\n",
      "686/686 [==============================] - 38s 55ms/step - loss: 0.0222 - accuracy: 0.9927 - val_loss: 0.0268 - val_accuracy: 0.9929 - lr: 0.0250\n",
      "--------------------------------------------------------------------------------\n",
      "Testing/evaluation\n",
      "375/375 [==============================] - 4s 9ms/step - loss: 0.0268 - accuracy: 0.9929\n",
      "================================================================================\n",
      "Fold-5\n",
      "--------------------------------------------------------------------------------\n",
      "Training & Validation\n",
      "Epoch 1/10\n",
      "686/686 [==============================] - 43s 62ms/step - loss: 0.2471 - accuracy: 0.9225 - val_loss: 0.0706 - val_accuracy: 0.9785 - lr: 0.0500\n",
      "Epoch 2/10\n",
      "686/686 [==============================] - 43s 63ms/step - loss: 0.0924 - accuracy: 0.9714 - val_loss: 0.0521 - val_accuracy: 0.9838 - lr: 0.0500\n",
      "Epoch 3/10\n",
      "686/686 [==============================] - 35s 51ms/step - loss: 0.0777 - accuracy: 0.9756 - val_loss: 0.0460 - val_accuracy: 0.9867 - lr: 0.0500\n",
      "Epoch 4/10\n",
      "686/686 [==============================] - 35s 51ms/step - loss: 0.0631 - accuracy: 0.9798 - val_loss: 0.0428 - val_accuracy: 0.9878 - lr: 0.0500\n",
      "Epoch 5/10\n",
      "686/686 [==============================] - 34s 50ms/step - loss: 0.0593 - accuracy: 0.9818 - val_loss: 0.0405 - val_accuracy: 0.9877 - lr: 0.0500\n",
      "Epoch 6/10\n",
      "686/686 [==============================] - 33s 48ms/step - loss: 0.0523 - accuracy: 0.9836 - val_loss: 0.0414 - val_accuracy: 0.9888 - lr: 0.0500\n",
      "Epoch 7/10\n",
      "686/686 [==============================] - 36s 53ms/step - loss: 0.0379 - accuracy: 0.9877 - val_loss: 0.0338 - val_accuracy: 0.9891 - lr: 0.0250\n",
      "Epoch 8/10\n",
      "686/686 [==============================] - 35s 50ms/step - loss: 0.0306 - accuracy: 0.9901 - val_loss: 0.0329 - val_accuracy: 0.9898 - lr: 0.0250\n",
      "Epoch 9/10\n",
      "686/686 [==============================] - 34s 50ms/step - loss: 0.0300 - accuracy: 0.9903 - val_loss: 0.0335 - val_accuracy: 0.9901 - lr: 0.0250\n",
      "Epoch 10/10\n",
      "686/686 [==============================] - 34s 50ms/step - loss: 0.0237 - accuracy: 0.9921 - val_loss: 0.0314 - val_accuracy: 0.9902 - lr: 0.0125\n",
      "--------------------------------------------------------------------------------\n",
      "Testing/evaluation\n",
      "375/375 [==============================] - 4s 10ms/step - loss: 0.0314 - accuracy: 0.9902\n"
     ]
    }
   ],
   "source": [
    "# evaluate a model using k-fold cross-validation\n",
    "def evaluate_model(dataX, dataY, n_folds=5):\n",
    "\tscores, histories = list(), list()\n",
    "\t# prepare cross validation\n",
    "\tkfold = KFold(n_folds, shuffle=True, random_state=1)\n",
    "\tfold_count = 1 \n",
    "\tes_callbacks = keras.callbacks.EarlyStopping(monitor=\"val_loss\", mode=\"min\", verbose=1, patience=4)\n",
    "\t# enumerate splits\n",
    "\tfor train_ix, test_ix in kfold.split(dataX):\n",
    "\t\tprint(\"=\"*80)\n",
    "\t\tprint(\"Fold-{}\".format(fold_count))\n",
    "\t\tprint(\"-\"*80)\n",
    "\t\tprint(\"Training & Validation\")\n",
    "\t\tfold_count = fold_count + 1\n",
    "\t\t# define model\n",
    "\t\tmodel = define_model()\n",
    "\t\t# select rows for train and test\n",
    "\t\ttrainX, trainY, testX, testY = dataX[train_ix], dataY[train_ix], dataX[test_ix], dataY[test_ix]\n",
    "\t\t# fit model\n",
    "\t\thistory = model.fit(trainX, trainY, epochs=10, batch_size=70, validation_data=(testX, testY), callbacks=[tensorboard_callback, reduce_lr])\n",
    "\t\t# evaluate model\n",
    "\t\tprint(\"-\"*80)\n",
    "\t\tprint(\"Testing/evaluation\")\n",
    "\t\tacc = model.evaluate(testX, testY)\n",
    "\t\t# stores scores\n",
    "\t\tscores.append(acc)\n",
    "\t\thistories.append(history)\n",
    "\treturn scores, histories\n",
    "\n",
    "scores, histories = evaluate_model(trainX, trainY)"
   ]
  },
  {
   "attachments": {},
   "cell_type": "markdown",
   "metadata": {},
   "source": [
    "### We are getting closer...\n",
    "Preparing to visualize how our model perfomed,\"summarize_diagnostics\", plots the loss and accuracy curves for the training and test sets of each fold. \n",
    "It uses the Seaborn and Matplotlib libraries to visualize the confusion matrix of the model's predictions on the test dataset. The next function, \"summarize_performance\", prints the mean and standard deviation of the accuracy scores."
   ]
  },
  {
   "cell_type": "code",
   "execution_count": 28,
   "metadata": {},
   "outputs": [],
   "source": [
    "# plot diagnostic learning curves\n",
    "def summarize_diagnostics(histories):\n",
    "\tfor i in range(len(histories)):\n",
    "\t\t# plot loss\n",
    "\t\tplt.subplot(2, 1, 1)\n",
    "\t\tplt.title('Cross Entropy Loss')\n",
    "\t\tplt.plot(histories[i].history['loss'], color='blue', label='train')\n",
    "\t\tplt.plot(histories[i].history['val_loss'], color='orange', label='test')\n",
    "\t\t# plot accuracy\n",
    "\t\tplt.subplot(2, 1, 2)\n",
    "\t\tplt.title('Classification Accuracy')\n",
    "\t\tplt.plot(histories[i].history['accuracy'], color='blue', label='train')\n",
    "\t\tplt.plot(histories[i].history['val_accuracy'], color='orange', label='test')\n",
    "\tplt.show()\n",
    "\n",
    "# summarize model performance\n",
    "def summarize_performance(scores):\n",
    "\t# print summary\n",
    "\tprint('Accuracy: mean=%.3f std=%.3f, n=%d' % (mean(scores)*100, std(scores)*100, len(scores)))\n",
    "\tplt.show()"
   ]
  },
  {
   "attachments": {},
   "cell_type": "markdown",
   "metadata": {},
   "source": [
    "### Now visualazing, the best part :D\n",
    "\n",
    "Finally, the \"run_test_harness\" function loads the MNIST dataset, preprocesses the pixel data, and calls the \"evaluate_model\". It then calls the \"summarize_diagnostics\" function to plot the learning curves for each fold, and the \"summarize_performance\" function to summarize the model's overall performance.\n",
    "\n",
    "To summarize, the purpose of this code is to evaluate the performance of our CNN model on the MNIST dataset using k-fold cross-validation.\n",
    "By training and testing the model on different folds of the data, we get a better estimate of its performance on unseen data. We can also plot the learning curves for each fold to understand how the model is learning over time."
   ]
  },
  {
   "cell_type": "code",
   "execution_count": 29,
   "metadata": {},
   "outputs": [
    {
     "data": {
      "image/png": "[encoded data removed]",
      "text/plain": [
       "<Figure size 640x480 with 2 Axes>"
      ]
     },
     "metadata": {},
     "output_type": "display_data"
    },
    {
     "name": "stdout",
     "output_type": "stream",
     "text": [
      "Accuracy: mean=51.050 std=48.127, n=5\n"
     ]
    }
   ],
   "source": [
    "# run the test harness for evaluating a model\n",
    "def run_test_harness():\n",
    "\t# load dataset\n",
    "\ttrainX, trainY, testX, testY = load_dataset()\n",
    "\t# prepare pixel data\n",
    "\ttrainX, testX = prep_pixels(trainX, testX)\n",
    "\t# evaluate model\n",
    "\t#scores, histories = evaluate_model(trainX, trainY)\n",
    "\t# learning curves\n",
    "\tsummarize_diagnostics(histories)\t\n",
    "\t# summarize estimated performance\t\n",
    "\tsummarize_performance(scores)\n",
    "\n",
    "# entry point, run the test harness\n",
    "run_test_harness()"
   ]
  },
  {
   "attachments": {},
   "cell_type": "markdown",
   "metadata": {},
   "source": [
    "### Conclusion\n",
    "\n",
    "I achieved my goal of a performance above 99%. In my opinion, the code is also well-structered and I hope you think so too! ;)\n",
    "For improving the model even more, there are still plenty of ideas spinning in my head that I want to share with you:\n",
    "\n",
    "1. Tune the given images: To cut off the edges of the pictures, as there is usually no important information to be found there. This would reduce the size of the image for each digit, which could lead to a significant performance increase.\n",
    "2. Tune Pixel Scaling: To explore how different pixel scaling methods impact model performance compared to the baseline model, including centering and standardization.\n",
    "3. Tune Model Depth: To explore how adding more layers to the model impact the model's performance.\n",
    "\n",
    "....and of course, there are still plenty of other ways, but at some point, you will reach a maximum below 100% due to some poorly designed digits! ;)\n"
   ]
  },
  {
   "attachments": {},
   "cell_type": "markdown",
   "metadata": {},
   "source": [
    "### The Internet is my best friend!\n",
    "\n",
    "Finally, I want to share my main sources of information with you.  I did a lot of research on the internet on ways to improve the performance and evaluation of my model. The three main sources that helped me to develop my model are listed below:\n",
    "\n",
    "https://towardsdatascience.com/going-beyond-99-mnist-handwritten-digits-recognition-cfff96337392\n",
    "\n",
    "https://machinelearningmastery.com/how-to-develop-a-convolutional-neural-network-from-scratch-for-mnist-handwritten-digit-classification/\n",
    "\n",
    "https://keras.io/examples/vision/mnist_convnet/\n"
   ]
  },
  {
   "attachments": {},
   "cell_type": "markdown",
   "metadata": {},
   "source": [
    "## Happy holidays und Merry Christmas!\n",
    "\n",
    "I hope you enjoyed my code and the documentation. Thanks for reading it! It was a real pleasure to document my code for you. I hope you had as much fun reading it as I had writing it. And if you didn't have fun, well, that's okay too. At least you made it to the end. In any case, I hope you have a wonderful holiday season and a very Merry Christmas! ;)"
   ]
  }
 ],
 "metadata": {
  "kernelspec": {
   "display_name": "Python 3",
   "language": "python",
   "name": "python3"
  },
  "language_info": {
   "codemirror_mode": {
    "name": "ipython",
    "version": 3
   },
   "file_extension": ".py",
   "mimetype": "text/x-python",
   "name": "python",
   "nbconvert_exporter": "python",
   "pygments_lexer": "ipython3",
   "version": "3.10.8"
  },
  "orig_nbformat": 4,
  "vscode": {
   "interpreter": {
    "hash": "e913b7897ac30ba1cf0615ffc95e0dcac655edcf15ece0252fa093eec079069f"
   }
  }
 },
 "nbformat": 4,
 "nbformat_minor": 2
}
